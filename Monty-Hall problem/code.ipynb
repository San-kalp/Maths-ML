{
 "cells": [
  {
   "cell_type": "code",
   "execution_count": 1,
   "metadata": {},
   "outputs": [],
   "source": [
    "import numpy as np \n",
    "import matplotlib.pyplot as plt \n",
    "\n",
    "%matplotlib widget"
   ]
  },
  {
   "cell_type": "code",
   "execution_count": 2,
   "metadata": {},
   "outputs": [],
   "source": [
    "def monty_hall(switch):\n",
    "    #0 - goat \n",
    "    #1 - car\n",
    "    doors = np.array([0,0,0])\n",
    "    winner_index = np.random.randint(0,3)\n",
    "    doors[winner_index] = 1\n",
    "    choice = np.random.randint(0,3)\n",
    "    openable_door = [i for i in range(3) if i not in (winner_index,choice)]\n",
    "    door_to_open = np.random.choice(openable_door)\n",
    "    if switch : \n",
    "        choice = [i for i in range(3) if i not in (choice,door_to_open)][0]\n",
    "    \n",
    "    return doors[choice]\n",
    "\n"
   ]
  },
  {
   "cell_type": "code",
   "execution_count": null,
   "metadata": {},
   "outputs": [],
   "source": []
  }
 ],
 "metadata": {
  "kernelspec": {
   "display_name": "Python 3",
   "language": "python",
   "name": "python3"
  },
  "language_info": {
   "codemirror_mode": {
    "name": "ipython",
    "version": 3
   },
   "file_extension": ".py",
   "mimetype": "text/x-python",
   "name": "python",
   "nbconvert_exporter": "python",
   "pygments_lexer": "ipython3",
   "version": "3.11.4"
  },
  "orig_nbformat": 4
 },
 "nbformat": 4,
 "nbformat_minor": 2
}
