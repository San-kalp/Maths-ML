{
 "cells": [
  {
   "cell_type": "code",
   "execution_count": 2,
   "metadata": {},
   "outputs": [],
   "source": [
    "import numpy as np \n",
    "import matplotlib.pyplot as plt \n",
    "from sklearn.datasets import make_regression\n",
    "\n",
    "import pandas as pd \n",
    "import helper1\n",
    "\n",
    "%matplotlib inline \n",
    "np.random.seed(3)"
   ]
  },
  {
   "cell_type": "code",
   "execution_count": 13,
   "metadata": {},
   "outputs": [],
   "source": [
    "m = 30 \n",
    "X, Y = make_regression(n_samples=30,n_features=1,noise=20,random_state=1)\n",
    "X=X.reshape((1,m))\n",
    "Y=Y.reshape((1,m))"
   ]
  },
  {
   "cell_type": "code",
   "execution_count": 14,
   "metadata": {},
   "outputs": [
    {
     "data": {
      "text/plain": [
       "<matplotlib.collections.PathCollection at 0x16bb9b5b0>"
      ]
     },
     "execution_count": 14,
     "metadata": {},
     "output_type": "execute_result"
    },
    {
     "data": {
      "image/png": "[encoded data removed]",
      "text/plain": [
       "<Figure size 432x288 with 1 Axes>"
      ]
     },
     "metadata": {
      "needs_background": "light"
     },
     "output_type": "display_data"
    }
   ],
   "source": [
    "plt.scatter(X,Y,c=\"black\")"
   ]
  },
  {
   "cell_type": "code",
   "execution_count": 15,
   "metadata": {},
   "outputs": [
    {
     "data": {
      "text/plain": [
       "30"
      ]
     },
     "execution_count": 15,
     "metadata": {},
     "output_type": "execute_result"
    }
   ],
   "source": [
    "m = X.shape[1]\n",
    "m"
   ]
  },
  {
   "cell_type": "code",
   "execution_count": 16,
   "metadata": {},
   "outputs": [],
   "source": [
    "def layer_sizes(X,Y):\n",
    "    n_x = X.shape[0]\n",
    "    n_y = Y.shape[0]\n",
    "    return n_x, n_y"
   ]
  },
  {
   "cell_type": "code",
   "execution_count": 18,
   "metadata": {},
   "outputs": [
    {
     "name": "stdout",
     "output_type": "stream",
     "text": [
      "Size of input layer 1\n",
      "Size of output layer 1\n"
     ]
    }
   ],
   "source": [
    "n_x,n_y=layer_sizes(X,Y)\n",
    "print(\"Size of input layer\", n_x)\n",
    "print(\"Size of output layer\", n_y)"
   ]
  },
  {
   "cell_type": "code",
   "execution_count": 20,
   "metadata": {},
   "outputs": [],
   "source": [
    "def initialize_parameters(n_x,n_y):\n",
    "    W = np.random.randn(n_y,n_x) * 0.01 \n",
    "    b = np.zeros((n_y,1))\n",
    "\n",
    "    parameters = {'W':W,'b':b}\n",
    "    return parameters"
   ]
  },
  {
   "cell_type": "code",
   "execution_count": 22,
   "metadata": {},
   "outputs": [
    {
     "name": "stdout",
     "output_type": "stream",
     "text": [
      "{'W': array([[0.0043651]]), 'b': array([[0.]])}\n"
     ]
    }
   ],
   "source": [
    "parameters = initialize_parameters(n_x,n_y)\n",
    "print(parameters)"
   ]
  },
  {
   "cell_type": "code",
   "execution_count": 23,
   "metadata": {},
   "outputs": [],
   "source": [
    "def forward_propagation(parameters,X):\n",
    "    W = parameters[\"W\"]\n",
    "    b = parameters[\"b\"]\n",
    "    Z = np.matmul(W,X) + b \n",
    "    Y_hat = Z \n",
    "    return Y_hat"
   ]
  },
  {
   "cell_type": "code",
   "execution_count": 27,
   "metadata": {},
   "outputs": [
    {
     "name": "stdout",
     "output_type": "stream",
     "text": [
      "[[ 0.00139264 -0.00468361  0.00377759 -0.00075267  0.00499683  0.00219344\n",
      "  -0.01004644 -0.00298454 -0.00167644 -0.00383194 -0.00899272 -0.00480431\n",
      "  -0.00480113  0.00494902  0.00761628 -0.00053643 -0.00408473  0.00709043\n",
      "   0.00638225  0.00393553 -0.00332274  0.00231505 -0.00230552 -0.00116936\n",
      "   0.00254405  0.00018427  0.00393232 -0.00108853 -0.00267038 -0.00140738]]\n"
     ]
    }
   ],
   "source": [
    "Y_hat = forward_propagation(parameters,X)\n",
    "print(Y_hat)"
   ]
  },
  {
   "cell_type": "code",
   "execution_count": 28,
   "metadata": {},
   "outputs": [],
   "source": [
    "def compute_cost(Y_hat,Y):\n",
    "    m = Y.shape[1]\n",
    "    cost = (1/2*m)*np.sum((Y_hat-Y)**2)\n",
    "    return cost "
   ]
  },
  {
   "cell_type": "code",
   "execution_count": 30,
   "metadata": {},
   "outputs": [
    {
     "data": {
      "text/plain": [
       "711639.4340286959"
      ]
     },
     "execution_count": 30,
     "metadata": {},
     "output_type": "execute_result"
    }
   ],
   "source": [
    "cost = compute_cost(Y_hat,Y)\n",
    "cost"
   ]
  },
  {
   "cell_type": "code",
   "execution_count": 31,
   "metadata": {},
   "outputs": [
    {
     "name": "stdout",
     "output_type": "stream",
     "text": [
      "W = [[43.63672667]]\n",
      "b = [[0.17829195]]\n"
     ]
    }
   ],
   "source": [
    "parameters = helper1.train_nn(parameters, Y_hat, X, Y)\n",
    "\n",
    "print(\"W = \" + str(parameters[\"W\"]))\n",
    "print(\"b = \" + str(parameters[\"b\"]))"
   ]
  },
  {
   "cell_type": "code",
   "execution_count": 32,
   "metadata": {},
   "outputs": [],
   "source": [
    "def nn_model(X,Y,num_iterations=10):\n",
    "    n_x , n_y = layer_sizes(X,Y)\n",
    "    parameters = initialize_parameters(n_x,n_y)\n",
    "    for i in range(num_iterations):\n",
    "        Y_hat=forward_propagation(parameters,X)\n",
    "        cost = compute_cost(Y_hat,Y)\n",
    "        parameters = helper1.train_nn(parameters, Y_hat, X, Y) \n",
    "        print (\"Cost after iteration %i: %f\" %(i, cost))\n",
    "    \n",
    "    return parameters"
   ]
  },
  {
   "cell_type": "code",
   "execution_count": 33,
   "metadata": {},
   "outputs": [
    {
     "name": "stdout",
     "output_type": "stream",
     "text": [
      "Cost after iteration 0: 711750.705919\n",
      "Cost after iteration 1: 158846.745203\n",
      "Cost after iteration 2: 129392.821454\n",
      "Cost after iteration 3: 127290.069687\n",
      "Cost after iteration 4: 127123.854961\n",
      "Cost after iteration 5: 127110.354042\n",
      "Cost after iteration 6: 127109.250056\n",
      "Cost after iteration 7: 127109.159636\n",
      "Cost after iteration 8: 127109.152227\n",
      "Cost after iteration 9: 127109.151620\n",
      "Cost after iteration 10: 127109.151571\n",
      "Cost after iteration 11: 127109.151567\n",
      "Cost after iteration 12: 127109.151566\n",
      "Cost after iteration 13: 127109.151566\n",
      "Cost after iteration 14: 127109.151566\n"
     ]
    }
   ],
   "source": [
    "parameters = nn_model(X,Y,15)"
   ]
  }
 ],
 "metadata": {
  "kernelspec": {
   "display_name": "Python 3",
   "language": "python",
   "name": "python3"
  },
  "language_info": {
   "codemirror_mode": {
    "name": "ipython",
    "version": 3
   },
   "file_extension": ".py",
   "mimetype": "text/x-python",
   "name": "python",
   "nbconvert_exporter": "python",
   "pygments_lexer": "ipython3",
   "version": "3.9.6"
  }
 },
 "nbformat": 4,
 "nbformat_minor": 2
}
