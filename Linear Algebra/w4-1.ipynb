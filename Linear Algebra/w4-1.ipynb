{
 "cells": [
  {
   "cell_type": "code",
   "execution_count": 1,
   "metadata": {},
   "outputs": [],
   "source": [
    "import numpy as np\n",
    "import matplotlib.pyplot as plt"
   ]
  },
  {
   "cell_type": "code",
   "execution_count": 6,
   "metadata": {},
   "outputs": [],
   "source": [
    "A = np.array([[2, 3],[2, 1]])\n",
    "e1 = np.array([[1],[0]])\n",
    "e2 = np.array([[0],[1]])"
   ]
  },
  {
   "cell_type": "code",
   "execution_count": 10,
   "metadata": {},
   "outputs": [],
   "source": [
    "eig_values,eig_vectors=np.linalg.eig(A)"
   ]
  },
  {
   "cell_type": "code",
   "execution_count": 13,
   "metadata": {},
   "outputs": [
    {
     "name": "stdout",
     "output_type": "stream",
     "text": [
      "4.0\n",
      "-1.0\n"
     ]
    }
   ],
   "source": [
    "for n in eig_values:\n",
    "    print(n)"
   ]
  },
  {
   "cell_type": "code",
   "execution_count": 16,
   "metadata": {},
   "outputs": [
    {
     "name": "stdout",
     "output_type": "stream",
     "text": [
      "1.0919284281983377\n",
      "0.898717034272917\n"
     ]
    }
   ],
   "source": [
    "for n in eig_vectors:\n",
    "    print(np.linalg.norm(n))"
   ]
  },
  {
   "cell_type": "code",
   "execution_count": 18,
   "metadata": {},
   "outputs": [],
   "source": [
    "A = np.array([[-1,0],[0,1]])\n",
    "eig_value,eig_vectors = np.linalg.eig(A)"
   ]
  },
  {
   "cell_type": "code",
   "execution_count": 22,
   "metadata": {},
   "outputs": [
    {
     "data": {
      "text/plain": [
       "array([[0.25],\n",
       "       [0.25],\n",
       "       [0.25],\n",
       "       [0.  ],\n",
       "       [0.25]])"
      ]
     },
     "execution_count": 22,
     "metadata": {},
     "output_type": "execute_result"
    }
   ],
   "source": [
    "P = np.array([    \n",
    "    [0, 0.75, 0.35, 0.25, 0.85],\n",
    "    [0.15, 0, 0.35, 0.25, 0.05],\n",
    "    [0.15, 0.15, 0, 0.25, 0.05],\n",
    "    [0.15, 0.05, 0.05, 0, 0.05],\n",
    "    [0.55, 0.05, 0.25, 0.25, 0]\n",
    "]) \n",
    "X = np.array([[0], [0], [0], [1], [0]])\n",
    "\n",
    "np.matmul(P,X)"
   ]
  },
  {
   "cell_type": "code",
   "execution_count": 23,
   "metadata": {},
   "outputs": [
    {
     "name": "stdout",
     "output_type": "stream",
     "text": [
      "[[0.39392366]\n",
      " [0.13392366]\n",
      " [0.11407667]\n",
      " [0.0850993 ]\n",
      " [0.27297672]]\n"
     ]
    }
   ],
   "source": [
    "m = 20 \n",
    "for i in range(m):\n",
    "    X = P @ X\n",
    "print(X)"
   ]
  },
  {
   "cell_type": "code",
   "execution_count": 24,
   "metadata": {},
   "outputs": [
    {
     "data": {
      "text/plain": [
       "(array([ 1.        , -0.70367062,  0.00539505, -0.08267227, -0.21905217]),\n",
       " array([[-0.76088562, -0.81362074,  0.10935376,  0.14270615, -0.39408574],\n",
       "        [-0.25879453,  0.050269  , -0.6653158 ,  0.67528802, -0.66465044],\n",
       "        [-0.2204546 ,  0.07869601, -0.29090665,  0.17007443,  0.35048734],\n",
       "        [-0.1644783 ,  0.12446953,  0.19740707, -0.43678067,  0.23311487],\n",
       "        [-0.52766004,  0.56018621,  0.64946163, -0.55128793,  0.47513398]]))"
      ]
     },
     "execution_count": 24,
     "metadata": {},
     "output_type": "execute_result"
    }
   ],
   "source": [
    "np.linalg.eig(P)"
   ]
  }
 ],
 "metadata": {
  "kernelspec": {
   "display_name": "Python 3",
   "language": "python",
   "name": "python3"
  },
  "language_info": {
   "codemirror_mode": {
    "name": "ipython",
    "version": 3
   },
   "file_extension": ".py",
   "mimetype": "text/x-python",
   "name": "python",
   "nbconvert_exporter": "python",
   "pygments_lexer": "ipython3",
   "version": "3.9.6"
  }
 },
 "nbformat": 4,
 "nbformat_minor": 2
}
