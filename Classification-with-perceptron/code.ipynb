{
 "cells": [
  {
   "cell_type": "code",
   "execution_count": 1,
   "metadata": {},
   "outputs": [],
   "source": [
    "import numpy as np \n",
    "import matplotlib.pyplot as plt \n",
    "from matplotlib import colors\n",
    "\n",
    "from sklearn.datasets import make_blobs\n",
    "%matplotlib inline\n",
    "\n",
    "np.random.seed(3)\n",
    "\n"
   ]
  },
  {
   "cell_type": "code",
   "execution_count": 2,
   "metadata": {},
   "outputs": [
    {
     "data": {
      "text/plain": [
       "[]"
      ]
     },
     "execution_count": 2,
     "metadata": {},
     "output_type": "execute_result"
    },
    {
     "data": {
      "image/png": "[encoded data removed]",
      "text/plain": [
       "<Figure size 640x480 with 1 Axes>"
      ]
     },
     "metadata": {},
     "output_type": "display_data"
    }
   ],
   "source": [
    "fig, ax = plt.subplots()\n",
    "xmin, xmax = -0.2, 1.4\n",
    "x_line = np.arange(xmin, xmax, 0.1)\n",
    "# Data points (observations) from two classes.\n",
    "ax.scatter(0, 0, color=\"b\")\n",
    "ax.scatter(0, 1, color=\"r\")\n",
    "ax.scatter(1, 0, color=\"b\")\n",
    "ax.scatter(1, 1, color=\"b\")\n",
    "ax.set_xlim([xmin, xmax])\n",
    "ax.set_ylim([-0.1, 1.1])\n",
    "ax.set_xlabel('$x_1$')\n",
    "ax.set_ylabel('$x_2$')\n",
    "# One of the lines which can be used as a decision boundary to separate two classes.\n",
    "ax.plot(x_line, x_line + 0.5, color=\"black\")\n",
    "plt.plot()"
   ]
  },
  {
   "cell_type": "code",
   "execution_count": 3,
   "metadata": {},
   "outputs": [
    {
     "name": "stdout",
     "output_type": "stream",
     "text": [
      "Training dataset X containing (x1, x2) coordinates in the columns:\n",
      "[[0 0 1 1 0 0 0 1 1 1 0 1 1 1 0 1 1 0 0 0 0 1 1 0 0 0 1 0 0 0]\n",
      " [0 1 0 1 1 0 1 0 0 1 1 0 0 1 0 1 0 1 1 1 1 0 1 0 0 1 1 1 0 0]]\n",
      "Training dataset Y containing labels of two classes (0: blue, 1: red)\n",
      "[[0 1 0 0 1 0 1 0 0 0 1 0 0 0 0 0 0 1 1 1 1 0 0 0 0 1 0 1 0 0]]\n",
      "The shape of X is: (2, 30)\n",
      "The shape of Y is: (1, 30)\n",
      "I have m = 30 training examples!\n"
     ]
    }
   ],
   "source": [
    "m = 30 \n",
    "\n",
    "X =  np.random.randint(0,2,(2,m))\n",
    "\n",
    "Y = np.logical_and(X[0] == 0, X[1] == 1).astype(int).reshape((1,m))\n",
    "\n",
    "\n",
    "print('Training dataset X containing (x1, x2) coordinates in the columns:')\n",
    "print(X)\n",
    "print('Training dataset Y containing labels of two classes (0: blue, 1: red)')\n",
    "print(Y)\n",
    "\n",
    "print ('The shape of X is: ' + str(X.shape))\n",
    "print ('The shape of Y is: ' + str(Y.shape))\n",
    "print ('I have m = %d training examples!' % (X.shape[1]))"
   ]
  },
  {
   "cell_type": "code",
   "execution_count": 4,
   "metadata": {},
   "outputs": [
    {
     "name": "stdout",
     "output_type": "stream",
     "text": [
      "sigmoid(-2) = 0.11920292202211755\n",
      "sigmoid(0) = 0.5\n",
      "sigmoid(3.5) = 0.9706877692486436\n"
     ]
    }
   ],
   "source": [
    "def sigmoid(z):\n",
    "    return 1/(1+np.exp(-z))\n",
    "print(\"sigmoid(-2) = \" + str(sigmoid(-2)))\n",
    "print(\"sigmoid(0) = \" + str(sigmoid(0)))\n",
    "print(\"sigmoid(3.5) = \" + str(sigmoid(3.5)))"
   ]
  },
  {
   "cell_type": "code",
   "execution_count": 6,
   "metadata": {},
   "outputs": [
    {
     "name": "stdout",
     "output_type": "stream",
     "text": [
      "[0.73105858 0.88079708 0.95257413]\n"
     ]
    }
   ],
   "source": [
    "print(sigmoid(np.array([1,2,3])))"
   ]
  },
  {
   "cell_type": "code",
   "execution_count": 7,
   "metadata": {},
   "outputs": [
    {
     "name": "stdout",
     "output_type": "stream",
     "text": [
      "The size of the input layer is: n_x = 2\n",
      "The size of the output layer is: n_y = 1\n"
     ]
    }
   ],
   "source": [
    "def layer_sizes(X,Y):\n",
    "    n_x = X.shape[0]\n",
    "    n_y = Y.shape[0]\n",
    "\n",
    "    return n_x , n_y\n",
    "(n_x, n_y) = layer_sizes(X, Y)\n",
    "print(\"The size of the input layer is: n_x = \" + str(n_x))\n",
    "print(\"The size of the output layer is: n_y = \" + str(n_y))"
   ]
  },
  {
   "cell_type": "code",
   "execution_count": 8,
   "metadata": {},
   "outputs": [
    {
     "name": "stdout",
     "output_type": "stream",
     "text": [
      "W = [[0.00975995 0.00672384]]\n",
      "b = [[0.]]\n"
     ]
    }
   ],
   "source": [
    "def initialize_parameters(n_x,n_y):\n",
    "    W = np.random.rand(n_y,n_x)*0.01\n",
    "    b = np.zeros((n_y,1))\n",
    "\n",
    "    parameters = {\n",
    "        'W':W,\n",
    "        'b':b\n",
    "    }\n",
    "\n",
    "    return parameters\n",
    "parameters = initialize_parameters(n_x, n_y)\n",
    "print(\"W = \" + str(parameters[\"W\"]))\n",
    "print(\"b = \" + str(parameters[\"b\"]))"
   ]
  },
  {
   "cell_type": "code",
   "execution_count": 10,
   "metadata": {},
   "outputs": [
    {
     "name": "stdout",
     "output_type": "stream",
     "text": [
      "Output vector A: [[0.5        0.50168095 0.50243997 0.50412085 0.50168095 0.5\n",
      "  0.50168095 0.50243997 0.50243997 0.50412085 0.50168095 0.50243997\n",
      "  0.50243997 0.50412085 0.5        0.50412085 0.50243997 0.50168095\n",
      "  0.50168095 0.50168095 0.50168095 0.50243997 0.50412085 0.5\n",
      "  0.5        0.50168095 0.50412085 0.50168095 0.5        0.5       ]]\n"
     ]
    }
   ],
   "source": [
    "def forward_propagation(X,parameters):\n",
    "    W = parameters[\"W\"]\n",
    "    b = parameters[\"b\"]\n",
    "\n",
    "    Z = np.matmul(W,X) + b\n",
    "\n",
    "    A = sigmoid(Z)\n",
    "\n",
    "    return A \n",
    "\n",
    "A = forward_propagation(X, parameters)\n",
    "\n",
    "print(\"Output vector A:\", A) "
   ]
  },
  {
   "cell_type": "code",
   "execution_count": 11,
   "metadata": {},
   "outputs": [
    {
     "name": "stdout",
     "output_type": "stream",
     "text": [
      "cost = 0.6948250363871487\n"
     ]
    }
   ],
   "source": [
    "def compute_cost(A, Y):\n",
    "    m = Y.shape[1]\n",
    "    logprobs = - np.multiply(np.log(A),Y) - np.multiply(np.log(1-A),(1-Y))\n",
    "    cost = (1/m) * np.sum(logprobs)\n",
    "\n",
    "    return cost \n",
    "print(\"cost = \" + str(compute_cost(A, Y)))"
   ]
  },
  {
   "cell_type": "code",
   "execution_count": 12,
   "metadata": {},
   "outputs": [
    {
     "name": "stdout",
     "output_type": "stream",
     "text": [
      "dW = [[ 0.21806016 -0.06528218]]\n",
      "db = [[5.05861444]]\n"
     ]
    }
   ],
   "source": [
    "def backward_propagation(A,X,Y):\n",
    "    m = Y.shape[1]\n",
    "    diff = A-Y\n",
    "    dldw = (1/m)*np.dot(diff,X.T)\n",
    "    dldb =  np.sum(diff, axis = 1, keepdims = True)\n",
    "\n",
    "    grads = {\n",
    "        'dldw':dldw,\n",
    "        'dldb':dldb\n",
    "    }\n",
    "\n",
    "    return grads\n",
    "grads = backward_propagation(A, X, Y)\n",
    "\n",
    "print(\"dW = \" + str(grads[\"dldw\"]))\n",
    "print(\"db = \" + str(grads[\"dldb\"]))\n"
   ]
  },
  {
   "cell_type": "code",
   "execution_count": 14,
   "metadata": {},
   "outputs": [
    {
     "name": "stdout",
     "output_type": "stream",
     "text": [
      "W updated = [[-0.25191224  0.08506245]]\n",
      "b updated = [[-6.07033733]]\n"
     ]
    }
   ],
   "source": [
    "def update_parameters(parameters,grads,learning_rate= 1.2):\n",
    "    W = parameters[\"W\"]\n",
    "    b = parameters[\"b\"]\n",
    "    \n",
    "    # Retrieve each gradient from the dictionary \"grads\".\n",
    "    dW = grads[\"dldw\"]\n",
    "    db = grads[\"dldb\"]\n",
    "    \n",
    "    # Update rule for each parameter.\n",
    "    W = W - learning_rate * dW\n",
    "    b = b - learning_rate * db\n",
    "    \n",
    "    parameters = {\"W\": W,\n",
    "                  \"b\": b}\n",
    "    \n",
    "    return parameters\n",
    "\n",
    "parameters_updated = update_parameters(parameters, grads)\n",
    "\n",
    "print(\"W updated = \" + str(parameters_updated[\"W\"]))\n",
    "print(\"b updated = \" + str(parameters_updated[\"b\"]))"
   ]
  },
  {
   "cell_type": "code",
   "execution_count": 17,
   "metadata": {},
   "outputs": [],
   "source": [
    "def nn_model(X, Y, num_iterations=10, learning_rate=1.2, print_cost=False):\n",
    "    \"\"\"\n",
    "    Arguments:\n",
    "    X -- dataset of shape (n_x, number of examples)\n",
    "    Y -- labels of shape (n_y, number of examples)\n",
    "    num_iterations -- number of iterations in the loop\n",
    "    learning_rate -- learning rate parameter for gradient descent\n",
    "    print_cost -- if True, print the cost every iteration\n",
    "    \n",
    "    Returns:\n",
    "    parameters -- parameters learnt by the model. They can then be used to make predictions.\n",
    "    \"\"\"\n",
    "    \n",
    "    n_x = layer_sizes(X, Y)[0]\n",
    "    n_y = layer_sizes(X, Y)[1]\n",
    "    \n",
    "    parameters = initialize_parameters(n_x, n_y)\n",
    "    \n",
    "    # Loop\n",
    "    for i in range(0, num_iterations):\n",
    "         \n",
    "        # Forward propagation. Inputs: \"X, parameters\". Outputs: \"A\".\n",
    "        A = forward_propagation(X, parameters)\n",
    "        \n",
    "        # Cost function. Inputs: \"A, Y\". Outputs: \"cost\".\n",
    "        cost = compute_cost(A, Y)\n",
    "        \n",
    "        # Backpropagation. Inputs: \"A, X, Y\". Outputs: \"grads\".\n",
    "        grads = backward_propagation(A, X, Y)\n",
    "    \n",
    "        # Gradient descent parameter update. Inputs: \"parameters, grads, learning_rate\". Outputs: \"parameters\".\n",
    "        parameters = update_parameters(parameters, grads, learning_rate)\n",
    "        \n",
    "        # Print the cost every iteration.\n",
    "        if print_cost:\n",
    "            print (\"Cost after iteration %i: %f\" %(i, cost))\n",
    "\n",
    "    return parameters\n"
   ]
  },
  {
   "cell_type": "code",
   "execution_count": 18,
   "metadata": {},
   "outputs": [
    {
     "name": "stdout",
     "output_type": "stream",
     "text": [
      "Cost after iteration 0: 0.694552\n",
      "Cost after iteration 1: 1.998589\n",
      "Cost after iteration 2: 3.887041\n",
      "Cost after iteration 3: 5.938148\n",
      "Cost after iteration 4: 1.807502\n",
      "Cost after iteration 5: 3.771942\n",
      "Cost after iteration 6: 5.749148\n",
      "Cost after iteration 7: 1.619552\n",
      "Cost after iteration 8: 3.640211\n",
      "Cost after iteration 9: 5.562050\n",
      "Cost after iteration 10: 1.434363\n",
      "Cost after iteration 11: 3.486471\n",
      "Cost after iteration 12: 5.375416\n",
      "Cost after iteration 13: 1.251095\n",
      "Cost after iteration 14: 3.301682\n",
      "Cost after iteration 15: 5.183744\n",
      "Cost after iteration 16: 1.065484\n",
      "Cost after iteration 17: 3.073084\n",
      "Cost after iteration 18: 4.969676\n",
      "Cost after iteration 19: 0.863640\n",
      "Cost after iteration 20: 2.771029\n",
      "Cost after iteration 21: 4.684888\n",
      "Cost after iteration 22: 0.611591\n",
      "Cost after iteration 23: 2.252644\n",
      "Cost after iteration 24: 4.138445\n",
      "Cost after iteration 25: 0.239197\n",
      "Cost after iteration 26: 0.780115\n",
      "Cost after iteration 27: 2.503400\n",
      "Cost after iteration 28: 0.358874\n",
      "Cost after iteration 29: 1.317621\n",
      "Cost after iteration 30: 1.521246\n",
      "Cost after iteration 31: 2.883179\n",
      "Cost after iteration 32: 0.110443\n",
      "Cost after iteration 33: 0.140856\n",
      "Cost after iteration 34: 0.207904\n",
      "Cost after iteration 35: 0.490029\n",
      "Cost after iteration 36: 1.341011\n",
      "Cost after iteration 37: 2.509854\n",
      "Cost after iteration 38: 0.185155\n",
      "Cost after iteration 39: 0.321849\n",
      "Cost after iteration 40: 0.738806\n",
      "Cost after iteration 41: 1.958742\n",
      "Cost after iteration 42: 0.463918\n",
      "Cost after iteration 43: 1.299998\n",
      "Cost after iteration 44: 1.010713\n",
      "Cost after iteration 45: 2.054986\n",
      "Cost after iteration 46: 0.294625\n",
      "Cost after iteration 47: 0.578345\n",
      "Cost after iteration 48: 1.019960\n",
      "Cost after iteration 49: 1.918471\n",
      "W = [[-6.37467327  6.83578972]]\n",
      "b = [[-0.22736217]]\n"
     ]
    }
   ],
   "source": [
    "parameters = nn_model(X, Y, num_iterations=50, learning_rate=1.2, print_cost=True)\n",
    "print(\"W = \" + str(parameters[\"W\"]))\n",
    "print(\"b = \" + str(parameters[\"b\"]))"
   ]
  },
  {
   "cell_type": "code",
   "execution_count": 19,
   "metadata": {},
   "outputs": [
    {
     "data": {
      "image/png": "[encoded data removed]",
      "text/plain": [
       "<Figure size 640x480 with 1 Axes>"
      ]
     },
     "metadata": {},
     "output_type": "display_data"
    }
   ],
   "source": [
    "def plot_decision_boundary(X, Y, parameters):\n",
    "    W = parameters[\"W\"]\n",
    "    b = parameters[\"b\"]\n",
    "\n",
    "    fig, ax = plt.subplots()\n",
    "    plt.scatter(X[0, :], X[1, :], c=Y, cmap=colors.ListedColormap(['blue', 'red']));\n",
    "    \n",
    "    x_line = np.arange(np.min(X[0,:]),np.max(X[0,:])*1.1, 0.1)\n",
    "    ax.plot(x_line, - W[0,0] / W[0,1] * x_line + -b[0,0] / W[0,1] , color=\"black\")\n",
    "    plt.plot()\n",
    "    plt.show()\n",
    "    \n",
    "plot_decision_boundary(X, Y, parameters)"
   ]
  },
  {
   "cell_type": "code",
   "execution_count": 20,
   "metadata": {},
   "outputs": [
    {
     "name": "stdout",
     "output_type": "stream",
     "text": [
      "Coordinates (in the columns):\n",
      "[[1 1 0 0]\n",
      " [0 1 0 1]]\n",
      "Predictions:\n",
      "[[False  True False  True]]\n"
     ]
    }
   ],
   "source": [
    "def predict(X, parameters):\n",
    "    \"\"\"\n",
    "    Using the learned parameters, predicts a class for each example in X\n",
    "    \n",
    "    Arguments:\n",
    "    parameters -- python dictionary containing your parameters \n",
    "    X -- input data of size (n_x, m)\n",
    "    \n",
    "    Returns\n",
    "    predictions -- vector of predictions of our model (blue: False / red: True)\n",
    "    \"\"\"\n",
    "    \n",
    "    # Computes probabilities using forward propagation, and classifies to 0/1 using 0.5 as the threshold.\n",
    "    A = forward_propagation(X, parameters)\n",
    "    predictions = A > 0.5\n",
    "    \n",
    "    return predictions\n",
    "\n",
    "X_pred = np.array([[1, 1, 0, 0],\n",
    "                   [0, 1, 0, 1]])\n",
    "Y_pred = predict(X_pred, parameters)\n",
    "\n",
    "print(f\"Coordinates (in the columns):\\n{X_pred}\")\n",
    "print(f\"Predictions:\\n{Y_pred}\")"
   ]
  }
 ],
 "metadata": {
  "kernelspec": {
   "display_name": "Python 3",
   "language": "python",
   "name": "python3"
  },
  "language_info": {
   "codemirror_mode": {
    "name": "ipython",
    "version": 3
   },
   "file_extension": ".py",
   "mimetype": "text/x-python",
   "name": "python",
   "nbconvert_exporter": "python",
   "pygments_lexer": "ipython3",
   "version": "3.11.4"
  },
  "orig_nbformat": 4
 },
 "nbformat": 4,
 "nbformat_minor": 2
}
